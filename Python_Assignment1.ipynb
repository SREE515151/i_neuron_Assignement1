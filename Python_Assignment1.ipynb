{
  "metadata": {
    "language_info": {
      "name": ""
    },
    "kernelspec": {
      "name": "python",
      "display_name": "Python (Pyodide)",
      "language": "python"
    }
  },
  "nbformat_minor": 4,
  "nbformat": 4,
  "cells": [
    {
      "cell_type": "markdown",
      "source": "1)In the below elements which of them are values or an expression? eg:- values can be integer or string and expressions will be mathematical operators.\n*\nhello\n-87.8\n-\n/\n+\n6",
      "metadata": {}
    },
    {
      "cell_type": "markdown",
      "source": "A) In the above list, \na. Values are:\n    1.Interger : 39\n    2.Float: -87.8\n    3.String: 'hello'\n    \nb. Expressions are:\n   * , - , / , +\n    ",
      "metadata": {}
    },
    {
      "cell_type": "code",
      "source": "",
      "metadata": {},
      "execution_count": null,
      "outputs": []
    },
    {
      "cell_type": "markdown",
      "source": "2.What is the difference between string and variable?",
      "metadata": {}
    },
    {
      "cell_type": "markdown",
      "source": "A) String: \nA string is data type used to represent a sequence of characters, such as \"hello\" or \"123\". It is used to store and manipulate text data. Strings are enclosed in quotation marks, such as single ('hello') or double quotes (\"hello\"). Strings in Python are immutable. \n\nVariable:\nVariables are used to store and manipulate data in a program. variables are named storage location that holds a value. These are used to store and refer to different types of data, including strings, numbers, boolean values etc. Python does not require explicit declaration of variables.\n\nIn short, a string is a specific type of data, while a variable is a container that can hold different types of data, including strings. ",
      "metadata": {}
    },
    {
      "cell_type": "code",
      "source": "",
      "metadata": {},
      "execution_count": null,
      "outputs": []
    },
    {
      "cell_type": "code",
      "source": "3. Describe three different data types.",
      "metadata": {},
      "execution_count": null,
      "outputs": []
    },
    {
      "cell_type": "markdown",
      "source": "A) Three different data types in Python:\n\nInteger (int):\n\nInteger represents whole numbers without any fractional or decimal part. Example: 5, -10, and 0 are integers. Integers can be used for mathematical operations like addition, subtraction, multiplication, and division.\n\nString (str):\nString represents a sequence of characters enclosed in quotation marks (single or double). Example: \"Hello, World!\" and 'ineuron' are strings. Strings in Python are immutable. Various operations on strings like concatenation, slicing and length retrieval can be performed.\n\nList (list):\nList represents an ordered collection of elements enclosed in square brackets ([]). For example, [4, 7, 2, 9] is a list. Lists can store elements of different data types, and they are mutable, which means one can modify the elements of a list. Elements in a list can be accessed using their index values, and you can perform operations like appending, removing, sorting, and slicing on lists.",
      "metadata": {}
    },
    {
      "cell_type": "code",
      "source": "",
      "metadata": {},
      "execution_count": null,
      "outputs": []
    },
    {
      "cell_type": "markdown",
      "source": "4.What is an expression made up of? What do all expressions do?",
      "metadata": {}
    },
    {
      "cell_type": "markdown",
      "source": "A) \n 1.An expression in Python is a combination of variables, operators, and values that evaluates to a single value. Expressions can be used to perform calculations, assign values to variables, and control the flow of a program.\n\nThe simple expression is a variable name. Example: Expression \"x\" evaluates to the value of the variable x.\nExpressions can also be made up of operators and values. Example: the expression \"5 + 2\" evaluates to the sum of 5 and 2, which is 7.\n\n 2.All expressions in Python evaluate to a single value. This value can be a number, a string, a boolean, or a NoneType.\n\nExpressions are used in a different ways. They can be used to perform calculations, assign values to variables, and control the flow of a program.",
      "metadata": {}
    },
    {
      "cell_type": "markdown",
      "source": "",
      "metadata": {}
    },
    {
      "cell_type": "markdown",
      "source": "5.This assignment statements, like spam = 10. What is the difference between an expression and a statement?",
      "metadata": {}
    },
    {
      "cell_type": "markdown",
      "source": "A) An expression is a combination of variables, operators, and values that evaluates to a single value. Statements are instructions that tell the Python interpreter to do something.\n\nAssignment statements are a type of statement that assigns a value to a variable. For example, assignment statement \"spam = 10\" assigns the value 10 to the variable spam.\n\nExpressions are used to perform calculations and assign values to variables, while statements are used to control the flow of a program.",
      "metadata": {}
    },
    {
      "cell_type": "code",
      "source": "",
      "metadata": {},
      "execution_count": null,
      "outputs": []
    },
    {
      "cell_type": "code",
      "source": "6. After running the following code, what does the variable bacon contain?\nbacon = 22\nbacon + 1",
      "metadata": {},
      "execution_count": null,
      "outputs": []
    },
    {
      "cell_type": "code",
      "source": "A) Here bacon =22 only, Since bacon+1 is not assigned to bacon.",
      "metadata": {},
      "execution_count": null,
      "outputs": []
    },
    {
      "cell_type": "code",
      "source": "",
      "metadata": {},
      "execution_count": null,
      "outputs": []
    },
    {
      "cell_type": "code",
      "source": "7. What should the values of the following two terms be?\n'spam' + 'spamspam'\n'spam'* 3",
      "metadata": {},
      "execution_count": null,
      "outputs": []
    },
    {
      "cell_type": "code",
      "source": "A) \n'spam' + 'spamspam' = spamspamspam\n'spam'* 3           = spamspamspam",
      "metadata": {},
      "execution_count": null,
      "outputs": []
    },
    {
      "cell_type": "code",
      "source": "",
      "metadata": {},
      "execution_count": null,
      "outputs": []
    },
    {
      "cell_type": "markdown",
      "source": "8.Why is eggs a valid variable name while 100 is invalid?",
      "metadata": {}
    },
    {
      "cell_type": "markdown",
      "source": "A) Variable names can only contain letters, numbers, and underscores. They cannot start with a number.\n\nThe variable name \"eggs\" is valid because it starts with a letter and contains only letters, numbers, and underscores. \nand the variable name \"100\" is invalid because it starts with a number.\n",
      "metadata": {}
    },
    {
      "cell_type": "code",
      "source": "",
      "metadata": {},
      "execution_count": null,
      "outputs": []
    },
    {
      "cell_type": "code",
      "source": "9.What three functions can be used to get the integer, floating-point number, or string\nversion of a value?",
      "metadata": {},
      "execution_count": null,
      "outputs": []
    },
    {
      "cell_type": "markdown",
      "source": "A) The three functions that can be used to get the integer, floating-point number, or string version of a value in Python are:\nint(), float(), and str().\n\na. int() converts a value to an integer. For example, int(\"10\") returns the integer 10.\nb. float() converts a value to a floating-point number. For example, float(\"10\") returns the floating-point number 10.0.\nc. str() converts a value to a string. For example, str(10) returns the string \"10\".",
      "metadata": {}
    },
    {
      "cell_type": "code",
      "source": "",
      "metadata": {},
      "execution_count": null,
      "outputs": []
    },
    {
      "cell_type": "markdown",
      "source": "10.Why does this expression cause an error? How can you fix it?\n'I have eaten' + 99 + 'burritos.'",
      "metadata": {}
    },
    {
      "cell_type": "markdown",
      "source": "A) The expression \"'I have eaten' + 99 + 'burritos.'\" throws an error because the + operator cannot be used to combine a string and an integer. \n\nTo fix this error, you can convert the integer to a string using the str() function.\n'I have eaten' + str(99) + 'burritos.'\noutput: \"I have eaten 99 burritos.\"",
      "metadata": {}
    },
    {
      "cell_type": "code",
      "source": "",
      "metadata": {},
      "execution_count": null,
      "outputs": []
    },
    {
      "cell_type": "code",
      "source": "",
      "metadata": {},
      "execution_count": null,
      "outputs": []
    }
  ]
}